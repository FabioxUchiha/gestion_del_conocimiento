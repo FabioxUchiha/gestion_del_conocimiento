{
  "nbformat": 4,
  "nbformat_minor": 0,
  "metadata": {
    "colab": {
      "name": "Taller_python_basico.ipynb",
      "provenance": [],
      "collapsed_sections": [],
      "include_colab_link": true
    },
    "kernelspec": {
      "name": "python3",
      "display_name": "Python 3"
    }
  },
  "cells": [
    {
      "cell_type": "markdown",
      "metadata": {
        "id": "view-in-github",
        "colab_type": "text"
      },
      "source": [
        "<a href=\"https://colab.research.google.com/github/FabioxUchiha/gestion_del_conocimiento/blob/main/Taller_python_basico.ipynb\" target=\"_parent\"><img src=\"https://colab.research.google.com/assets/colab-badge.svg\" alt=\"Open In Colab\"/></a>"
      ]
    },
    {
      "cell_type": "markdown",
      "metadata": {
        "id": "GkEDK9rQjmrG"
      },
      "source": [
        "# Taller \n",
        "\n",
        "Por favor ejecute los ejercicios solicitados de acuerdo a las instrucciones."
      ]
    },
    {
      "cell_type": "markdown",
      "metadata": {
        "id": "xnBWaOLzj7Nf"
      },
      "source": [
        "#### Variables \n",
        "\n",
        "Cree las siguientes variables:\n",
        "* Una variable entera de nombre a.\n",
        "* Una variable flotante de nombre b.\n",
        "* Una variable booleana de nombre c.\n",
        "* Una variable de tipo string llamada name.\n",
        "* Una variable de tipo lista llamada lst.\n",
        "* Una variable de tipo diccionario llamada dict_var.\n"
      ]
    },
    {
      "cell_type": "code",
      "metadata": {
        "id": "d2E8Li61jgzX",
        "outputId": "77ea279c-352e-41ea-9c7e-5ae138cb6a59",
        "colab": {
          "base_uri": "https://localhost:8080/"
        }
      },
      "source": [
        "# INGRESE SU CÓDIGO AQUÍ\n",
        "a\n",
        "b\n",
        "c = True\n",
        "name = str\n",
        "lst = []\n",
        "dict_var = {}\n",
        "modulo"
      ],
      "execution_count": 23,
      "outputs": [
        {
          "output_type": "execute_result",
          "data": {
            "text/plain": [
              "0"
            ]
          },
          "metadata": {
            "tags": []
          },
          "execution_count": 23
        }
      ]
    },
    {
      "cell_type": "code",
      "metadata": {
        "id": "-Z04tW9SlCBj"
      },
      "source": [
        "## NO MODIFIQUE ESTA CELDA SOLO EJECUTELA PARA COMPROBAR SU RESULTADO\n"
      ],
      "execution_count": null,
      "outputs": []
    },
    {
      "cell_type": "markdown",
      "metadata": {
        "id": "yccJ5zQ8l4zV"
      },
      "source": [
        "#### Operadores \n",
        "\n",
        "Aplique los siguientes operadores a las variables anteriormente definidas:\n",
        "\n",
        "* Asigne a la variable `a` el valor 5. Luego súmele a la variable el valor 10 y asigne el resultado de esta operación de nuevo a esta variable. Imprima el valor final de la variable. \n",
        "\n",
        "* Asígnele a la variable `b` el valor 2.4 y elévelo al cubo, asigne el resultado a la variable `b`. Imprima el valor final de la variable. \n",
        "\n",
        "* Imprima el módulo 5 del número 340 e imprímalo."
      ]
    },
    {
      "cell_type": "code",
      "metadata": {
        "id": "lXQhbSqarIfv",
        "outputId": "1b79b6ef-7f61-4e69-810e-e8bda0eb76ff",
        "colab": {
          "base_uri": "https://localhost:8080/"
        }
      },
      "source": [
        "# INGRESE SU CÓDIGO AQUÍ\n",
        "a = 5\n",
        "a += 10\n",
        "print(a)\n",
        "\n",
        "b = 2.4\n",
        "b = b**3\n",
        "print(b)\n",
        "modulo = 340 % 5\n",
        "print(\"el modulo 5 del numero 340 es: \"+str(modulo))"
      ],
      "execution_count": 2,
      "outputs": [
        {
          "output_type": "stream",
          "text": [
            "15\n",
            "13.823999999999998\n",
            "el modulo 5 del numero 340 es: 0\n"
          ],
          "name": "stdout"
        }
      ]
    },
    {
      "cell_type": "code",
      "metadata": {
        "id": "-Z8Z9l0prTII"
      },
      "source": [
        "# NO MODIFIQUE NI EJECUTE ESTA CELDA ES SOLO PARA CONSULTA DE RESULTADOS\n"
      ],
      "execution_count": null,
      "outputs": []
    },
    {
      "cell_type": "markdown",
      "metadata": {
        "id": "LO_Gib4MtJ8W"
      },
      "source": [
        "### Selección \n",
        "\n",
        "Utilizando las variables anteriores imprima un mensaje que diga \"a\" si la variable `a` es mayor que la variable `b`, si `a` es menor que `b` por una diferencia inferior a 5 imprima \"a,b\" sino  imprima \"b\". "
      ]
    },
    {
      "cell_type": "code",
      "metadata": {
        "id": "WrLEt04OxHvu",
        "outputId": "9c4241ca-0b77-441c-bdb6-6c56494e5ba7",
        "colab": {
          "base_uri": "https://localhost:8080/"
        }
      },
      "source": [
        "# INGRESE SU CÓDIGO AQUÍ\n",
        "if a>b:\n",
        "    print(\"a\")\n",
        "elif (a-5)<b:\n",
        "  print(\"a,b\")\n",
        "else:\n",
        "  print(\"b\")\n"
      ],
      "execution_count": 3,
      "outputs": [
        {
          "output_type": "stream",
          "text": [
            "a\n"
          ],
          "name": "stdout"
        }
      ]
    },
    {
      "cell_type": "code",
      "metadata": {
        "id": "I35VPAgvxc1k",
        "outputId": "c9f0fda2-6a6c-472a-8086-73a232e668e5",
        "colab": {
          "base_uri": "https://localhost:8080/",
          "height": 34
        }
      },
      "source": [
        "# No ejecute esta celda solo usela de guía\n"
      ],
      "execution_count": null,
      "outputs": [
        {
          "output_type": "stream",
          "text": [
            "a\n"
          ],
          "name": "stdout"
        }
      ]
    },
    {
      "cell_type": "markdown",
      "metadata": {
        "id": "STohpbyuzqHb"
      },
      "source": [
        "### Iteración \n",
        "\n",
        "* Genere e imprima la lista de los número impares entre 1 y 20. **usando for**\n",
        "*  Genere e imprima los valores desde de 100 hasta 1 disminuyendo de 10 en 10. **usando while**"
      ]
    },
    {
      "cell_type": "code",
      "metadata": {
        "id": "wsJVPCAqzbOC",
        "outputId": "011c399a-8cc0-4950-efe6-a7bc5648911e",
        "colab": {
          "base_uri": "https://localhost:8080/"
        }
      },
      "source": [
        "# Ingrese su código aquí \n",
        "for i in range(1, 20, 2):\n",
        "  print(i)\n",
        "\n",
        "print(\"---------------------------------\")\n",
        "\n",
        "j=100\n",
        "while True:\n",
        "  print(j)\n",
        "  j -= 10\n",
        "  if j < 10:\n",
        "    break # continue"
      ],
      "execution_count": 4,
      "outputs": [
        {
          "output_type": "stream",
          "text": [
            "1\n",
            "3\n",
            "5\n",
            "7\n",
            "9\n",
            "11\n",
            "13\n",
            "15\n",
            "17\n",
            "19\n",
            "---------------------------------\n",
            "100\n",
            "90\n",
            "80\n",
            "70\n",
            "60\n",
            "50\n",
            "40\n",
            "30\n",
            "20\n",
            "10\n"
          ],
          "name": "stdout"
        }
      ]
    },
    {
      "cell_type": "code",
      "metadata": {
        "id": "P2TiKR7z1B_K"
      },
      "source": [
        "# No ejecute esta celda usela como referencia"
      ],
      "execution_count": null,
      "outputs": []
    },
    {
      "cell_type": "markdown",
      "metadata": {
        "id": "fOm2S1IX2lAp"
      },
      "source": [
        "#### Diccionarios, listas y string\n",
        "\n",
        "Los primeros traductores se basaban en el uso de diccionarios donde cada palabra en su idioma original era sustituida por su equivalente en el idioma extranjero a través de un diccionario. Usando la función `split` para partir el mensanje en una lista de palabras. Cree un diccionario español-inglés (claves en español, valores equivalentes en inglés); recorra la lista de palabras y sustituya cada una con su equivalente en inglés utilizando el diccionario previamente creado y acumulando las palabras traducidas en una lista. Finalmente convierta la lista de palabras de nuevo a string utilizando la función join de string. "
      ]
    },
    {
      "cell_type": "code",
      "metadata": {
        "id": "pYCMzLAz5byQ"
      },
      "source": [
        "mensaje_original = \"Python es un lenguaje poderoso, sencillo y divertido.\"\n",
        "# Introduzca su código aquí.\n"
      ],
      "execution_count": null,
      "outputs": []
    },
    {
      "cell_type": "code",
      "metadata": {
        "id": "rNwdlBEu5myT",
        "outputId": "7b77ad01-b313-4c75-808d-4dd7602dc88a",
        "colab": {
          "base_uri": "https://localhost:8080/",
          "height": 34
        }
      },
      "source": [
        "# No ejecute esta celda es solo para comprobación "
      ],
      "execution_count": null,
      "outputs": [
        {
          "output_type": "stream",
          "text": [
            "Python is a language powerfull easy and enjoyable\n"
          ],
          "name": "stdout"
        }
      ]
    },
    {
      "cell_type": "markdown",
      "metadata": {
        "id": "Ei-EqKnv9bSP"
      },
      "source": [
        "#### Funciones  \n",
        "Cree una función llamada `mcd` que reciba como parámetros dos eneteros y retorne el máximo común divisor de los dos. Utilice dentro de la función listas, la función max de python y conjuntos para realizar la operación intersección."
      ]
    },
    {
      "cell_type": "code",
      "metadata": {
        "id": "ydcSPbbC-JqS"
      },
      "source": [
        "# Ingrese su código aquí"
      ],
      "execution_count": null,
      "outputs": []
    },
    {
      "cell_type": "code",
      "metadata": {
        "id": "r2UsXFJf-Vkw",
        "outputId": "a3310edb-2f4f-4513-f90f-ceea18780ef6",
        "colab": {
          "base_uri": "https://localhost:8080/",
          "height": 34
        }
      },
      "source": [
        "# No modifique esta celda\n"
      ],
      "execution_count": null,
      "outputs": [
        {
          "output_type": "execute_result",
          "data": {
            "text/plain": [
              "3"
            ]
          },
          "metadata": {
            "tags": []
          },
          "execution_count": 22
        }
      ]
    },
    {
      "cell_type": "markdown",
      "metadata": {
        "id": "d2VPJkjE29ap"
      },
      "source": [
        "#### Programación funcional \n",
        "\n",
        "Cree una lista con los números de 1 a 200 y use una función filter para quedarse solo con los números primos en la lista. A continuación eleve al cuadrado cada uno de ellos y presente el resultado como una lista. "
      ]
    },
    {
      "cell_type": "code",
      "metadata": {
        "id": "FeZ390EQ3R8b"
      },
      "source": [
        "# Ingrese su código aquí por favor"
      ],
      "execution_count": null,
      "outputs": []
    }
  ]
}